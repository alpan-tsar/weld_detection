{
 "cells": [
  {
   "cell_type": "code",
   "execution_count": 1,
   "id": "bf846b18-e043-4aca-b8e2-47e0faefb796",
   "metadata": {},
   "outputs": [],
   "source": [
    "# ultralytics installation https://docs.ultralytics.com/guides/conda-quickstart/#what-you-will-learn\n",
    "# no other libraries required\n",
    "\n",
    "from ultralytics import YOLO\n",
    "import numpy as np\n",
    "import pandas as pd\n",
    "import matplotlib.pyplot as plt\n",
    "import os\n",
    "import shutil"
   ]
  },
  {
   "cell_type": "code",
   "execution_count": 2,
   "id": "5ca331e7-12be-4fb2-bfdc-9c23bfb6d5c2",
   "metadata": {},
   "outputs": [],
   "source": [
    "# define the model\n",
    "\n",
    "final_weights = 'weights/last.pt'\n",
    "model = YOLO(final_weights)"
   ]
  },
  {
   "cell_type": "code",
   "execution_count": 3,
   "id": "579f5823-353b-4541-9f0d-71856ada4ab7",
   "metadata": {},
   "outputs": [],
   "source": [
    "# define path to test images folder\n",
    "\n",
    "dataset_path = 'test'\n",
    "images_path_list = [os.path.join(dataset_path, file_name) for file_name in os.listdir(dataset_path)]"
   ]
  },
  {
   "cell_type": "code",
   "execution_count": 4,
   "id": "ad98958e-1d0e-459c-8c1b-fad4eaf684b4",
   "metadata": {},
   "outputs": [
    {
     "name": "stdout",
     "output_type": "stream",
     "text": [
      "\n",
      "image 1/1 C:\\Users\\777\\Documents\\anaconda_projects\\test\\test10.jpg: 512x640 4 adjs, 1 geo, 32.9ms\n",
      "Speed: 2.0ms preprocess, 32.9ms inference, 2.0ms postprocess per image at shape (1, 3, 512, 640)\n",
      "Results saved to \u001b[1mruns\\detect\\predict\u001b[0m\n",
      "\n",
      "image 1/1 C:\\Users\\777\\Documents\\anaconda_projects\\test\\test11.jpg: 640x640 1 geo, 7.0ms\n",
      "Speed: 3.0ms preprocess, 7.0ms inference, 1.0ms postprocess per image at shape (1, 3, 640, 640)\n",
      "Results saved to \u001b[1mruns\\detect\\predict\u001b[0m\n",
      "\n",
      "image 1/1 C:\\Users\\777\\Documents\\anaconda_projects\\test\\test2.jpg: 384x640 (no detections), 35.9ms\n",
      "Speed: 2.0ms preprocess, 35.9ms inference, 1.0ms postprocess per image at shape (1, 3, 384, 640)\n",
      "Results saved to \u001b[1mruns\\detect\\predict\u001b[0m\n",
      "\n",
      "image 1/1 C:\\Users\\777\\Documents\\anaconda_projects\\test\\test3.jpeg: 640x480 2 adjs, 31.9ms\n",
      "Speed: 3.0ms preprocess, 31.9ms inference, 1.0ms postprocess per image at shape (1, 3, 640, 480)\n",
      "Results saved to \u001b[1mruns\\detect\\predict\u001b[0m\n",
      "\n",
      "image 1/1 C:\\Users\\777\\Documents\\anaconda_projects\\test\\test6.jpg: 640x480 2 adjs, 1 geo, 5.0ms\n",
      "Speed: 2.0ms preprocess, 5.0ms inference, 1.0ms postprocess per image at shape (1, 3, 640, 480)\n",
      "Results saved to \u001b[1mruns\\detect\\predict\u001b[0m\n",
      "\n",
      "image 1/1 C:\\Users\\777\\Documents\\anaconda_projects\\test\\test7.jpg: 640x480 11 adjs, 1 non, 7.0ms\n",
      "Speed: 1.0ms preprocess, 7.0ms inference, 1.0ms postprocess per image at shape (1, 3, 640, 480)\n",
      "Results saved to \u001b[1mruns\\detect\\predict\u001b[0m\n"
     ]
    }
   ],
   "source": [
    "# run the model\n",
    "# visualization can be found in 'runs/detect/predict/' folder\n",
    "# predicted coords can be found in 'submission.csv' file\n",
    "\n",
    "col_names = [['filename','class_id','rel_x','rel_y','width','height']]\n",
    "rows = []\n",
    "for test_image in images_path_list:\n",
    "    results = model.predict(test_image, save=True)\n",
    "    for box in results[0].boxes:\n",
    "        rows.append([os.path.basename(test_image), int(box.cls.cpu().numpy()), *box.xywhn.cpu().numpy()[0]])\n",
    "\n",
    "col_names.extend(rows)\n",
    "df = pd.DataFrame(col_names)\n",
    "df.to_csv('submission.csv', sep=';', index=False, header=False)"
   ]
  },
  {
   "cell_type": "code",
   "execution_count": null,
   "id": "3de9d9bc-9608-4b46-a2c9-333c60b6f040",
   "metadata": {},
   "outputs": [],
   "source": []
  }
 ],
 "metadata": {
  "kernelspec": {
   "display_name": "Python 3 (ipykernel)",
   "language": "python",
   "name": "python3"
  },
  "language_info": {
   "codemirror_mode": {
    "name": "ipython",
    "version": 3
   },
   "file_extension": ".py",
   "mimetype": "text/x-python",
   "name": "python",
   "nbconvert_exporter": "python",
   "pygments_lexer": "ipython3",
   "version": "3.8.19"
  }
 },
 "nbformat": 4,
 "nbformat_minor": 5
}
